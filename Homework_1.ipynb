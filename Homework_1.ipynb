{
  "nbformat": 4,
  "nbformat_minor": 0,
  "metadata": {
    "colab": {
      "provenance": [],
      "toc_visible": true,
      "authorship_tag": "ABX9TyMI9vrB+Zn5l711p+ycvf6s",
      "include_colab_link": true
    },
    "kernelspec": {
      "name": "python3",
      "display_name": "Python 3"
    },
    "language_info": {
      "name": "python"
    }
  },
  "cells": [
    {
      "cell_type": "markdown",
      "metadata": {
        "id": "view-in-github",
        "colab_type": "text"
      },
      "source": [
        "<a href=\"https://colab.research.google.com/github/ggpillow/hseHomework1/blob/main/Homework_1.ipynb\" target=\"_parent\"><img src=\"https://colab.research.google.com/assets/colab-badge.svg\" alt=\"Open In Colab\"/></a>"
      ]
    },
    {
      "cell_type": "code",
      "execution_count": 11,
      "metadata": {
        "colab": {
          "base_uri": "https://localhost:8080/"
        },
        "id": "RcOFKkkTCHWA",
        "outputId": "b86eadb8-b51e-43c8-8385-7ed1d5bdada2"
      },
      "outputs": [
        {
          "output_type": "stream",
          "name": "stdout",
          "text": [
            "Введите год: 2000\n",
            "Високосный год\n"
          ]
        }
      ],
      "source": [
        "year = int(input(\"Введите год: \"))\n",
        "\n",
        "if year % 100 == 0:\n",
        "  if year % 400 == 0:\n",
        "     print(\"Високосный год\")\n",
        "  else:\n",
        "    print(\"Обычный год\")\n",
        "elif year % 4 == 0:\n",
        "  print(\"Високосный год\")\n",
        "else:\n",
        "    print(\"Обычный год\")"
      ]
    },
    {
      "cell_type": "code",
      "source": [
        "sum_last_numbers = 0\n",
        "sum_first_numbers = 0\n",
        "n = 0\n",
        "\n",
        "while n == 0:\n",
        "\n",
        "  ticket = input(\"Введите номер билета: \")\n",
        "\n",
        "  try:\n",
        "    if len(ticket) >= 6:\n",
        "      sum_first_numbers = int(ticket[0]) + int(ticket[1]) + int(ticket[2])\n",
        "      sum_last_numbers = int(ticket[-1]) + int(ticket[-2]) + int(ticket[-3])\n",
        "      if sum_first_numbers == sum_last_numbers:\n",
        "        print(\"Счастливый билет\")\n",
        "        n += 1\n",
        "      else:\n",
        "        print(\"Несчастливый билет\")\n",
        "        n += 1\n",
        "    else:\n",
        "      print(\"Введён некорректный номер билета!\")\n",
        "  except ValueError:\n",
        "    print(\"Введён некорректный номер билета!\")\n"
      ],
      "metadata": {
        "colab": {
          "base_uri": "https://localhost:8080/"
        },
        "id": "DWgY4mphYnPf",
        "outputId": "16c5d0e7-9254-48a5-d3d6-da1e65f1099a"
      },
      "execution_count": null,
      "outputs": [
        {
          "output_type": "stream",
          "name": "stdout",
          "text": [
            "Введите номер билета: sdfdsfdf\n",
            "Введён некорректный номер билета!\n",
            "Введите номер билета: 123\n",
            "Введён некорректный номер билета!\n",
            "Введите номер билета: 44444444\n",
            "Счастливый билет\n"
          ]
        }
      ]
    }
  ]
}